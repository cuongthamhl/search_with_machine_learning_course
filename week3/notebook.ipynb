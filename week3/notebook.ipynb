{
 "cells": [
  {
   "cell_type": "markdown",
   "metadata": {},
   "source": [
    "# Setting up"
   ]
  },
  {
   "cell_type": "code",
   "execution_count": null,
   "metadata": {},
   "outputs": [],
   "source": [
    "%load_ext autoreload\n",
    "%autoreload 2\n",
    "%pip install nltk pandas\n",
    "import nltk\n",
    "nltk.download('punkt')"
   ]
  },
  {
   "cell_type": "code",
   "execution_count": null,
   "metadata": {},
   "outputs": [],
   "source": [
    "import pandas as pd\n",
    "import json\n",
    "import contextlib\n",
    "from functions import display_rows\n",
    "\n",
    "ENABLE_CLASSIFIER_TRAINING=False\n",
    "ENABLE_SYNONYM_TRAINING=False\n",
    "\n",
    "\n",
    "%env WEEK3 /workspace/search_with_machine_learning_course/week3\n",
    "WEEK3='/workspace/search_with_machine_learning_course/week3'\n",
    "\n",
    "%env MAX_CATEGORY_DEPTH=4\n",
    "MAX_CATEGORY_DEPTH=4\n",
    "\n",
    "PRUNE_PRODUCT_IF_LESS_THAN = 5\n"
   ]
  },
  {
   "cell_type": "markdown",
   "metadata": {},
   "source": [
    "# Training Classifier"
   ]
  },
  {
   "cell_type": "code",
   "execution_count": null,
   "metadata": {},
   "outputs": [],
   "source": [
    "# Dump categories, 10 level deep, dump everything\n",
    "!python dump_category_depth_maps.py --max-depth 10\n",
    "!head -n 3 $WEEK3/data/category_depth_maps.csv"
   ]
  },
  {
   "cell_type": "code",
   "execution_count": null,
   "metadata": {},
   "outputs": [],
   "source": [
    "category_depth_maps_df = pd.read_csv(f'{WEEK3}/data/category_depth_maps.csv').set_index('id')\n",
    "category_depth_maps_at_depth_df = category_depth_maps_df[category_depth_maps_df['depth'] <= MAX_CATEGORY_DEPTH]\n",
    "\n",
    "display_rows(category_depth_maps_at_depth_df, 4)\n"
   ]
  },
  {
   "cell_type": "code",
   "execution_count": null,
   "metadata": {},
   "outputs": [],
   "source": [
    "#!python createContentTrainingData.py --output $WEEK3/data/output.fasttext"
   ]
  },
  {
   "cell_type": "code",
   "execution_count": null,
   "metadata": {},
   "outputs": [],
   "source": [
    "!tail -n 3 $WEEK3/data/output.fasttext\n",
    "!tail -n 3 $WEEK3/data/output.fasttext.csv"
   ]
  },
  {
   "cell_type": "code",
   "execution_count": null,
   "metadata": {},
   "outputs": [],
   "source": [
    "# load all fastext labels\n",
    "fasttext_df = pd.read_csv(f'{WEEK3}/data/output.fasttext.csv').set_index('label')\n",
    "\n",
    "# shuffle data\n",
    "fasttext_df = fasttext_df.sample(frac=1)\n",
    "\n",
    "# group data by labels\n",
    "fasttext_df_group_by_label = fasttext_df.groupby('label')\n",
    "print(f'fasttext_df_group_by_label:')\n",
    "display_rows(fasttext_df_group_by_label.agg(['count']), 5)\n"
   ]
  },
  {
   "cell_type": "code",
   "execution_count": null,
   "metadata": {},
   "outputs": [],
   "source": [
    "# prune the labels that has less than N products\n",
    "fasttext_df_labels_with_more_than_n_products = fasttext_df_group_by_label.filter(lambda x: x.shape[0] > PRUNE_PRODUCT_IF_LESS_THAN)\n",
    "print(f'fasttext_df_labels_with_more_than_{PRUNE_PRODUCT_IF_LESS_THAN}_products:')\n",
    "display_rows(fasttext_df_labels_with_more_than_n_products, 5)\n",
    "\n",
    "with open(f'{WEEK3}/data/output-prune-less-than-{PRUNE_PRODUCT_IF_LESS_THAN}-products.fasttext', 'w') as output:\n",
    "    for index, row in fasttext_df_labels_with_more_than_n_products.iterrows():        \n",
    "        output.write(\"__label__%s %s\\n\" % (index, row['name_stemmed']))\n"
   ]
  },
  {
   "cell_type": "code",
   "execution_count": null,
   "metadata": {},
   "outputs": [],
   "source": [
    "\n",
    "# keep only the labels up to depth Nth catetory depth. For example, N=2, Best Buy -> Category level2\n",
    "fasttext_df_at_depth = fasttext_df[\n",
    "    fasttext_df.index.isin(category_depth_maps_at_depth_df.index)\n",
    "]\n",
    "fasttext_df_at_depth_first_cell_id = fasttext_df_at_depth.index.values[0]\n",
    "print('fasttext_df_at_depth:')\n",
    "display_rows(fasttext_df_at_depth, 5)\n",
    "print(f'The depth of {fasttext_df_at_depth_first_cell_id} in category_depth_maps_at_depth_df depth (for UAT):')\n",
    "display(\n",
    "category_depth_maps_at_depth_df[category_depth_maps_at_depth_df.index == fasttext_df_at_depth_first_cell_id]\n",
    ")\n",
    "\n",
    "with open(f'{WEEK3}/data/output-prune-category-at-depth-{MAX_CATEGORY_DEPTH}.fasttext', 'w') as output:\n",
    "    for index, row in fasttext_df_at_depth.iterrows():        \n",
    "        output.write(\"__label__%s %s\\n\" % (index, row['name_stemmed']))\n",
    "\n",
    "print('')"
   ]
  },
  {
   "cell_type": "code",
   "execution_count": null,
   "metadata": {},
   "outputs": [],
   "source": [
    "# keep only the labels up to depth Nth catetory depth and prune labels with less than N products\n",
    "fasttext_df_more_than_n_products_and_at_depth = fasttext_df_labels_with_more_than_n_products[\n",
    "    fasttext_df_labels_with_more_than_n_products.index.isin(category_depth_maps_at_depth_df.index)\n",
    "]\n",
    "\n",
    "print('')\n",
    "\n",
    "with open(f'{WEEK3}/data/output-prune-less-than-{PRUNE_PRODUCT_IF_LESS_THAN}-prune-category-at-depth-{MAX_CATEGORY_DEPTH}.fasttext', 'w') as output:\n",
    "    for index, row in fasttext_df_at_depth.iterrows():        \n",
    "        output.write(\"__label__%s %s\\n\" % (index, row['name_stemmed']))\n"
   ]
  },
  {
   "cell_type": "code",
   "execution_count": null,
   "metadata": {},
   "outputs": [],
   "source": [
    "\n",
    "%env DATA_SIZE=25000\n",
    "%env CLASSIFICATION_TRAINING_FILE=$WEEK3/data/output-prune-less-than-5-prune-category-at-depth-4.fasttext\n",
    "%env FASTTEXT_TRAINING_FILE=/workspace/search_with_machine_learning_course/week3/data/data.train\n",
    "%env FASTTEXT_TEST_FILE=/workspace/search_with_machine_learning_course/week3/data/data.test\n",
    "\n",
    "\n",
    "!mkdir -p /workspace/search_with_machine_learning_course/week3/data\n",
    "print('Generating data.train...')\n",
    "!head -n $DATA_SIZE $CLASSIFICATION_TRAINING_FILE > $FASTTEXT_TRAINING_FILE\n",
    "print('Done')\n",
    "print('Generating data.test...')\n",
    "!tail -n $DATA_SIZE $CLASSIFICATION_TRAINING_FILE > $FASTTEXT_TEST_FILE\n",
    "print('Done')\n",
    "\n",
    "print('\\n')\n",
    "!echo Fist 5 lines in $FASTTEXT_TRAINING_FILE\n",
    "!head -n 5 $FASTTEXT_TRAINING_FILE\n",
    "print('\\n')\n",
    "!echo Fist 5 lines in $FASTTEXT_TEST_FILE\n",
    "!head -n 5 $FASTTEXT_TEST_FILE\n",
    "\n"
   ]
  },
  {
   "cell_type": "code",
   "execution_count": null,
   "metadata": {},
   "outputs": [],
   "source": [
    "!~/fastText-0.9.2/fasttext supervised \\\n",
    "    -input $FASTTEXT_TRAINING_FILE \\\n",
    "    -output /workspace/search_with_machine_learning_course/week3/data/model \\\n",
    "    -epoch 25 \\\n",
    "    -lr 1 \\\n",
    "    -loss hs \\\n",
    "    -wordNgrams 2\n",
    "\n",
    "\n",
    "!~/fastText-0.9.2/fasttext test \\\n",
    "    /workspace/search_with_machine_learning_course/week3/data/model.bin \\\n",
    "    $FASTTEXT_TEST_FILE\n"
   ]
  },
  {
   "cell_type": "code",
   "execution_count": null,
   "metadata": {},
   "outputs": [],
   "source": [
    "!python f_classify.py -n 5 -i \"apple\""
   ]
  },
  {
   "cell_type": "markdown",
   "metadata": {},
   "source": [
    "# Training Synonym"
   ]
  },
  {
   "cell_type": "code",
   "execution_count": null,
   "metadata": {},
   "outputs": [],
   "source": [
    "!~/fastText-0.9.2/fasttext skipgram \\\n",
    "    -input /workspace/datasets/fasttext/titles.txt \\\n",
    "    -output /workspace/search_with_machine_learning_course/week3/data/title_model_epoch_25"
   ]
  },
  {
   "cell_type": "code",
   "execution_count": null,
   "metadata": {},
   "outputs": [],
   "source": [
    "import fasttext\n",
    "import functions\n",
    "from hand_picked_tokens import get_tokens\n",
    "\n",
    "models = [\n",
    "    'title_model.bin'\n",
    "]\n",
    "\n",
    "output = ''\n",
    "for input in get_tokens():\n",
    "    for model_name in models:\n",
    "        input_stemmed = functions.transform_name(input)\n",
    "        model = fasttext.load_model(f'/workspace/search_with_machine_learning_course/week3/data/{model_name}')    \n",
    "        predictions = model.get_nearest_neighbors(input_stemmed, k=10)\n",
    "\n",
    "        output += f'Synonyms of [{input}]:\\n'\n",
    "        \n",
    "        for (score, r) in predictions:    \n",
    "            output += f'    {r}    ({score})\\n'\n",
    "        output += '----------------------------\\n\\n'\n",
    "\n",
    "\n",
    "print(output)"
   ]
  },
  {
   "cell_type": "code",
   "execution_count": null,
   "metadata": {},
   "outputs": [],
   "source": [
    "token='iphone'\n",
    "print(f'Synonyms for {token}:')\n",
    "predictions = f_nn.predict(token, 10)\n",
    "for (score, r) in predictions:    \n",
    "    print(f'    {r}    ({score})')\n",
    "print('----------------------------')\n",
    "print('')"
   ]
  },
  {
   "cell_type": "code",
   "execution_count": null,
   "metadata": {},
   "outputs": [],
   "source": [
    "import hand_picked_tokens\n",
    "import f_nn\n",
    "\n",
    "for token in hand_picked_tokens.get_tokens():\n",
    "    print(f'Synonyms for {token}:')\n",
    "    predictions = f_nn.predict(token, 10)\n",
    "    for (score, r) in predictions:    \n",
    "        print(f'    {r}    ({score})')\n",
    "    print('----------------------------')\n",
    "    print('')"
   ]
  },
  {
   "cell_type": "markdown",
   "metadata": {},
   "source": [
    "# Review rating to language correlation\n",
    "\n"
   ]
  },
  {
   "cell_type": "code",
   "execution_count": null,
   "metadata": {},
   "outputs": [],
   "source": [
    "%env REVIEW_DATA_SIZE=50000\n",
    "%env RAW_FASTTEXT_REVIEW_LABEL_FILE=/workspace/search_with_machine_learning_course/week3/data/output-reviews.fasttext\n",
    "%env SHUFFLED_FASTTEXT_REVIEW_LABEL_FILE=/workspace/search_with_machine_learning_course/week3/data/output-reviews-shuffled.fasttext\n",
    "%env FASTTEXT_REVIEW_TRAINING_FILE=/workspace/search_with_machine_learning_course/week3/data/data-review.train\n",
    "%env FASTTEXT_REVIEW_TEST_FILE=/workspace/search_with_machine_learning_course/week3/data/data-review.test"
   ]
  },
  {
   "cell_type": "code",
   "execution_count": null,
   "metadata": {},
   "outputs": [],
   "source": [
    "!python createReviewLabels.py --use-3-tie --output $RAW_FASTTEXT_REVIEW_LABEL_FILE"
   ]
  },
  {
   "cell_type": "code",
   "execution_count": null,
   "metadata": {},
   "outputs": [],
   "source": [
    "!wc -l $RAW_FASTTEXT_REVIEW_LABEL_FILE\n",
    "\n",
    "!echo \"\"\n",
    "!echo \"Shuffle $RAW_FASTTEXT_REVIEW_LABEL_FILE into $SHUFFLED_FASTTEXT_REVIEW_LABEL_FILE\"\n",
    "!shuf $RAW_FASTTEXT_REVIEW_LABEL_FILE -o $SHUFFLED_FASTTEXT_REVIEW_LABEL_FILE\n",
    "\n",
    "#!echo \"\"\n",
    "#!echo \"First first 3 rows of $RAW_FASTTEXT_REVIEW_LABEL_FILE\"\n",
    "#!head -n 3 $RAW_FASTTEXT_REVIEW_LABEL_FILE\n",
    "\n",
    "#!echo \"\"\n",
    "#!echo \"First first 3 rows of $SHUFFLED_FASTTEXT_REVIEW_LABEL_FILE\"\n",
    "#!head -n 3 $SHUFFLED_FASTTEXT_REVIEW_LABEL_FILE\n",
    "\n"
   ]
  },
  {
   "cell_type": "code",
   "execution_count": null,
   "metadata": {},
   "outputs": [],
   "source": [
    "\n",
    "!mkdir -p /workspace/search_with_machine_learning_course/week3/data\n",
    "\n",
    "!echo \"Generating $FASTTEXT_REVIEW_TRAINING_FILE...\"\n",
    "!head -n $REVIEW_DATA_SIZE $SHUFFLED_FASTTEXT_REVIEW_LABEL_FILE > $FASTTEXT_REVIEW_TRAINING_FILE\n",
    "print('Done')\n",
    "\n",
    "!echo \"Generating $FASTTEXT_REVIEW_TEST_FILE...\"\n",
    "!tail -n $REVIEW_DATA_SIZE $SHUFFLED_FASTTEXT_REVIEW_LABEL_FILE > $FASTTEXT_REVIEW_TEST_FILE\n",
    "print('Done')\n",
    "\n",
    "\n",
    "#print('\\n')\n",
    "#!echo Fist 5 lines in $FASTTEXT_REVIEW_TRAINING_FILE\n",
    "#!head -n 5 $FASTTEXT_REVIEW_TRAINING_FILE\n",
    "#print('\\n')\n",
    "#!echo Fist 5 lines in $FASTTEXT_REVIEW_TEST_FILE\n",
    "#!head -n 5 $FASTTEXT_REVIEW_TEST_FILE\n"
   ]
  },
  {
   "cell_type": "code",
   "execution_count": null,
   "metadata": {},
   "outputs": [],
   "source": [
    "if True:\n",
    "    !~/fastText-0.9.2/fasttext supervised \\\n",
    "        -input $FASTTEXT_REVIEW_TRAINING_FILE \\\n",
    "        -output $WEEK3/data/review-model \\\n",
    "        -autotune-validation $FASTTEXT_REVIEW_TEST_FILE \\\n",
    "        -autotune-duration 1200\n",
    "\n",
    "\n",
    "    !~/fastText-0.9.2/fasttext test \\\n",
    "        $WEEK3/data/review-model.bin \\\n",
    "        $FASTTEXT_REVIEW_TEST_FILE"
   ]
  },
  {
   "cell_type": "code",
   "execution_count": null,
   "metadata": {},
   "outputs": [],
   "source": [
    "if True:\n",
    "    !~/fastText-0.9.2/fasttext supervised \\\n",
    "        -input $FASTTEXT_REVIEW_TRAINING_FILE \\\n",
    "        -output $WEEK3/data/review-model \\\n",
    "        -epoch 25 \\\n",
    "        -lr 1.0 \\\n",
    "        -wordNgrams 2\n",
    "\n",
    "\n",
    "    !~/fastText-0.9.2/fasttext test \\\n",
    "        $WEEK3/data/review-model.bin \\\n",
    "        $FASTTEXT_REVIEW_TEST_FILE"
   ]
  }
 ],
 "metadata": {
  "interpreter": {
   "hash": "efbea73cff74b7a98ce6da7a2ec73ce865a8aa980237d5aae8243a6dba939ff5"
  },
  "kernelspec": {
   "display_name": "Python 3.9.7 64-bit ('search_with_ml_week3')",
   "language": "python",
   "name": "python3"
  },
  "language_info": {
   "codemirror_mode": {
    "name": "ipython",
    "version": 3
   },
   "file_extension": ".py",
   "mimetype": "text/x-python",
   "name": "python",
   "nbconvert_exporter": "python",
   "pygments_lexer": "ipython3",
   "version": "3.9.7"
  },
  "orig_nbformat": 4
 },
 "nbformat": 4,
 "nbformat_minor": 2
}
